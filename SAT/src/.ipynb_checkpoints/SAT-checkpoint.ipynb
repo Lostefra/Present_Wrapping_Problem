{
 "cells": [
  {
   "cell_type": "code",
   "execution_count": 1,
   "metadata": {},
   "outputs": [],
   "source": [
    "from z3 import *\n",
    "import numpy as np"
   ]
  },
  {
   "cell_type": "markdown",
   "metadata": {},
   "source": [
    "Read instance file:"
   ]
  },
  {
   "cell_type": "code",
   "execution_count": 2,
   "metadata": {},
   "outputs": [],
   "source": [
    "input_filename = '../../Instances/8x8.txt'\n",
    "\n",
    "w, h, n, DX, DY = None, None, None, None, None\n",
    "\n",
    "with open(input_filename, 'r') as f_in:\n",
    "    lines = f_in.read().splitlines()\n",
    "\n",
    "    split = lines[0].split(' ')\n",
    "    w = int(split[0])\n",
    "    h = int(split[1])\n",
    "\n",
    "    n = int(lines[1])\n",
    "\n",
    "    DX = []\n",
    "    DY = []\n",
    "\n",
    "    for i in range(int(n)):\n",
    "        split = lines[i+2].split(' ')\n",
    "        DX.append(int(split[0]))\n",
    "        DY.append(int(split[1]))"
   ]
  },
  {
   "cell_type": "markdown",
   "metadata": {},
   "source": [
    "Solver:"
   ]
  },
  {
   "cell_type": "code",
   "execution_count": 3,
   "metadata": {},
   "outputs": [],
   "source": [
    "solver = Solver()"
   ]
  },
  {
   "cell_type": "markdown",
   "metadata": {},
   "source": [
    "Model:"
   ]
  },
  {
   "cell_type": "code",
   "execution_count": 4,
   "metadata": {},
   "outputs": [],
   "source": [
    "B = []\n",
    "\n",
    "for i in range(h):\n",
    "    B.append([])\n",
    "    for j in range(w):\n",
    "        B[i].append([])\n",
    "        for k in range(n):\n",
    "            B[i][j].append(Bool('B_{}_{}_{}'.format(i, j, k)))"
   ]
  },
  {
   "cell_type": "code",
   "execution_count": 5,
   "metadata": {},
   "outputs": [
    {
     "data": {
      "text/plain": [
       "[[[B_0_0_0, B_0_0_1, B_0_0_2, B_0_0_3],\n",
       "  [B_0_1_0, B_0_1_1, B_0_1_2, B_0_1_3],\n",
       "  [B_0_2_0, B_0_2_1, B_0_2_2, B_0_2_3],\n",
       "  [B_0_3_0, B_0_3_1, B_0_3_2, B_0_3_3],\n",
       "  [B_0_4_0, B_0_4_1, B_0_4_2, B_0_4_3],\n",
       "  [B_0_5_0, B_0_5_1, B_0_5_2, B_0_5_3],\n",
       "  [B_0_6_0, B_0_6_1, B_0_6_2, B_0_6_3],\n",
       "  [B_0_7_0, B_0_7_1, B_0_7_2, B_0_7_3]],\n",
       " [[B_1_0_0, B_1_0_1, B_1_0_2, B_1_0_3],\n",
       "  [B_1_1_0, B_1_1_1, B_1_1_2, B_1_1_3],\n",
       "  [B_1_2_0, B_1_2_1, B_1_2_2, B_1_2_3],\n",
       "  [B_1_3_0, B_1_3_1, B_1_3_2, B_1_3_3],\n",
       "  [B_1_4_0, B_1_4_1, B_1_4_2, B_1_4_3],\n",
       "  [B_1_5_0, B_1_5_1, B_1_5_2, B_1_5_3],\n",
       "  [B_1_6_0, B_1_6_1, B_1_6_2, B_1_6_3],\n",
       "  [B_1_7_0, B_1_7_1, B_1_7_2, B_1_7_3]],\n",
       " [[B_2_0_0, B_2_0_1, B_2_0_2, B_2_0_3],\n",
       "  [B_2_1_0, B_2_1_1, B_2_1_2, B_2_1_3],\n",
       "  [B_2_2_0, B_2_2_1, B_2_2_2, B_2_2_3],\n",
       "  [B_2_3_0, B_2_3_1, B_2_3_2, B_2_3_3],\n",
       "  [B_2_4_0, B_2_4_1, B_2_4_2, B_2_4_3],\n",
       "  [B_2_5_0, B_2_5_1, B_2_5_2, B_2_5_3],\n",
       "  [B_2_6_0, B_2_6_1, B_2_6_2, B_2_6_3],\n",
       "  [B_2_7_0, B_2_7_1, B_2_7_2, B_2_7_3]],\n",
       " [[B_3_0_0, B_3_0_1, B_3_0_2, B_3_0_3],\n",
       "  [B_3_1_0, B_3_1_1, B_3_1_2, B_3_1_3],\n",
       "  [B_3_2_0, B_3_2_1, B_3_2_2, B_3_2_3],\n",
       "  [B_3_3_0, B_3_3_1, B_3_3_2, B_3_3_3],\n",
       "  [B_3_4_0, B_3_4_1, B_3_4_2, B_3_4_3],\n",
       "  [B_3_5_0, B_3_5_1, B_3_5_2, B_3_5_3],\n",
       "  [B_3_6_0, B_3_6_1, B_3_6_2, B_3_6_3],\n",
       "  [B_3_7_0, B_3_7_1, B_3_7_2, B_3_7_3]],\n",
       " [[B_4_0_0, B_4_0_1, B_4_0_2, B_4_0_3],\n",
       "  [B_4_1_0, B_4_1_1, B_4_1_2, B_4_1_3],\n",
       "  [B_4_2_0, B_4_2_1, B_4_2_2, B_4_2_3],\n",
       "  [B_4_3_0, B_4_3_1, B_4_3_2, B_4_3_3],\n",
       "  [B_4_4_0, B_4_4_1, B_4_4_2, B_4_4_3],\n",
       "  [B_4_5_0, B_4_5_1, B_4_5_2, B_4_5_3],\n",
       "  [B_4_6_0, B_4_6_1, B_4_6_2, B_4_6_3],\n",
       "  [B_4_7_0, B_4_7_1, B_4_7_2, B_4_7_3]],\n",
       " [[B_5_0_0, B_5_0_1, B_5_0_2, B_5_0_3],\n",
       "  [B_5_1_0, B_5_1_1, B_5_1_2, B_5_1_3],\n",
       "  [B_5_2_0, B_5_2_1, B_5_2_2, B_5_2_3],\n",
       "  [B_5_3_0, B_5_3_1, B_5_3_2, B_5_3_3],\n",
       "  [B_5_4_0, B_5_4_1, B_5_4_2, B_5_4_3],\n",
       "  [B_5_5_0, B_5_5_1, B_5_5_2, B_5_5_3],\n",
       "  [B_5_6_0, B_5_6_1, B_5_6_2, B_5_6_3],\n",
       "  [B_5_7_0, B_5_7_1, B_5_7_2, B_5_7_3]],\n",
       " [[B_6_0_0, B_6_0_1, B_6_0_2, B_6_0_3],\n",
       "  [B_6_1_0, B_6_1_1, B_6_1_2, B_6_1_3],\n",
       "  [B_6_2_0, B_6_2_1, B_6_2_2, B_6_2_3],\n",
       "  [B_6_3_0, B_6_3_1, B_6_3_2, B_6_3_3],\n",
       "  [B_6_4_0, B_6_4_1, B_6_4_2, B_6_4_3],\n",
       "  [B_6_5_0, B_6_5_1, B_6_5_2, B_6_5_3],\n",
       "  [B_6_6_0, B_6_6_1, B_6_6_2, B_6_6_3],\n",
       "  [B_6_7_0, B_6_7_1, B_6_7_2, B_6_7_3]],\n",
       " [[B_7_0_0, B_7_0_1, B_7_0_2, B_7_0_3],\n",
       "  [B_7_1_0, B_7_1_1, B_7_1_2, B_7_1_3],\n",
       "  [B_7_2_0, B_7_2_1, B_7_2_2, B_7_2_3],\n",
       "  [B_7_3_0, B_7_3_1, B_7_3_2, B_7_3_3],\n",
       "  [B_7_4_0, B_7_4_1, B_7_4_2, B_7_4_3],\n",
       "  [B_7_5_0, B_7_5_1, B_7_5_2, B_7_5_3],\n",
       "  [B_7_6_0, B_7_6_1, B_7_6_2, B_7_6_3],\n",
       "  [B_7_7_0, B_7_7_1, B_7_7_2, B_7_7_3]]]"
      ]
     },
     "execution_count": 5,
     "metadata": {},
     "output_type": "execute_result"
    }
   ],
   "source": [
    "B"
   ]
  },
  {
   "cell_type": "code",
   "execution_count": 6,
   "metadata": {},
   "outputs": [],
   "source": [
    "# constraint at most one color\n",
    "for i in range(h):\n",
    "    for j in range(w):\n",
    "        for k1 in range(n):\n",
    "            for k2 in range(k1+1, n):\n",
    "                solver.add(Not(And([B[i][j][k1], B[i][j][k2]])))"
   ]
  },
  {
   "cell_type": "code",
   "execution_count": 7,
   "metadata": {},
   "outputs": [
    {
     "name": "stdout",
     "output_type": "stream",
     "text": [
      "36\n",
      "24\n",
      "24\n",
      "16\n"
     ]
    }
   ],
   "source": [
    "all_cells = []\n",
    "for p in range(n):\n",
    "    dx = DX[p]\n",
    "    dy = DY[p]\n",
    "    \n",
    "    present_cells = []\n",
    "    \n",
    "    for i in range(h-dy+1):\n",
    "        for j in range(w-dx+1):\n",
    "            # positions for the top left corner\n",
    "            \n",
    "            current_cells = []\n",
    "            for f1 in range(dy):\n",
    "                for f2 in range(dx):\n",
    "                    # cells of the piece of paper\n",
    "                    current_cells.append(B[i+f1][j+f2][p])                    \n",
    "            \n",
    "            present_cells.append(And(current_cells))\n",
    "    \n",
    "    #all_cells.append(Or(present_cells)) # XOR needed!\n",
    "    for a in range(len(present_cells)):\n",
    "        for b in range(a+1, len(present_cells)):\n",
    "            all_cells.append(And(Not(And(present_cells[a], present_cells[b])), Or(present_cells)))\n",
    "    \n",
    "solver.add(And(all_cells))"
   ]
  },
  {
   "cell_type": "code",
   "execution_count": 8,
   "metadata": {},
   "outputs": [
    {
     "data": {
      "text/html": [
       "<b>sat</b>"
      ],
      "text/plain": [
       "sat"
      ]
     },
     "execution_count": 8,
     "metadata": {},
     "output_type": "execute_result"
    }
   ],
   "source": [
    "solver.check()"
   ]
  },
  {
   "cell_type": "markdown",
   "metadata": {},
   "source": [
    "From Z3 model solution to file:"
   ]
  },
  {
   "cell_type": "code",
   "execution_count": 9,
   "metadata": {},
   "outputs": [],
   "source": [
    "solution = np.zeros((h, w, n), dtype=bool)\n",
    "model = solver.model()\n",
    "\n",
    "for i in range(h):\n",
    "    for j in range(w):\n",
    "        for k in range(n):\n",
    "            solution[i, j, k] = is_true(model[B[i][j][k]])"
   ]
  },
  {
   "cell_type": "code",
   "execution_count": 10,
   "metadata": {},
   "outputs": [
    {
     "data": {
      "text/plain": [
       "array([[[False,  True, False, False],\n",
       "        [False,  True, False, False],\n",
       "        [False,  True, False, False],\n",
       "        [False, False,  True, False],\n",
       "        [False, False,  True, False],\n",
       "        [False, False,  True, False],\n",
       "        [False, False,  True, False],\n",
       "        [False, False,  True, False]],\n",
       "\n",
       "       [[False,  True, False, False],\n",
       "        [False,  True, False, False],\n",
       "        [False,  True, False, False],\n",
       "        [False, False,  True, False],\n",
       "        [False, False,  True, False],\n",
       "        [False, False,  True, False],\n",
       "        [False, False,  True, False],\n",
       "        [False, False,  True, False]],\n",
       "\n",
       "       [[False,  True, False, False],\n",
       "        [False,  True, False, False],\n",
       "        [False,  True, False, False],\n",
       "        [False, False,  True, False],\n",
       "        [False, False,  True, False],\n",
       "        [False, False,  True, False],\n",
       "        [False, False,  True, False],\n",
       "        [False, False,  True, False]],\n",
       "\n",
       "       [[False,  True, False, False],\n",
       "        [False,  True, False, False],\n",
       "        [False,  True, False, False],\n",
       "        [False, False, False,  True],\n",
       "        [False, False, False,  True],\n",
       "        [False, False, False,  True],\n",
       "        [False, False, False,  True],\n",
       "        [False, False, False,  True]],\n",
       "\n",
       "       [[False,  True, False, False],\n",
       "        [False,  True, False, False],\n",
       "        [False,  True, False, False],\n",
       "        [False, False, False,  True],\n",
       "        [False, False, False,  True],\n",
       "        [False, False, False,  True],\n",
       "        [False, False, False,  True],\n",
       "        [False, False, False,  True]],\n",
       "\n",
       "       [[ True, False, False, False],\n",
       "        [ True, False, False, False],\n",
       "        [ True, False, False, False],\n",
       "        [False, False, False,  True],\n",
       "        [False, False, False,  True],\n",
       "        [False, False, False,  True],\n",
       "        [False, False, False,  True],\n",
       "        [False, False, False,  True]],\n",
       "\n",
       "       [[ True, False, False, False],\n",
       "        [ True, False, False, False],\n",
       "        [ True, False, False, False],\n",
       "        [False, False, False,  True],\n",
       "        [False, False, False,  True],\n",
       "        [False, False, False,  True],\n",
       "        [False, False, False,  True],\n",
       "        [False, False, False,  True]],\n",
       "\n",
       "       [[ True, False, False, False],\n",
       "        [ True, False, False, False],\n",
       "        [ True, False, False, False],\n",
       "        [False, False, False,  True],\n",
       "        [False, False, False,  True],\n",
       "        [False, False, False,  True],\n",
       "        [False, False, False,  True],\n",
       "        [False, False, False,  True]]])"
      ]
     },
     "execution_count": 10,
     "metadata": {},
     "output_type": "execute_result"
    }
   ],
   "source": [
    "solution"
   ]
  },
  {
   "cell_type": "code",
   "execution_count": 14,
   "metadata": {},
   "outputs": [
    {
     "name": "stdout",
     "output_type": "stream",
     "text": [
      "[[False False False False False False False False]\n",
      " [False False False False False False False False]\n",
      " [False False False False False False False False]\n",
      " [False False False False False False False False]\n",
      " [False False False False False False False False]\n",
      " [ True  True  True False False False False False]\n",
      " [ True  True  True False False False False False]\n",
      " [ True  True  True False False False False False]]\n",
      "Color 0: [0, 0]\n",
      "[[ True  True  True False False False False False]\n",
      " [ True  True  True False False False False False]\n",
      " [ True  True  True False False False False False]\n",
      " [ True  True  True False False False False False]\n",
      " [ True  True  True False False False False False]\n",
      " [False False False False False False False False]\n",
      " [False False False False False False False False]\n",
      " [False False False False False False False False]]\n",
      "Color 1: [0, 3]\n",
      "[[False False False  True  True  True  True  True]\n",
      " [False False False  True  True  True  True  True]\n",
      " [False False False  True  True  True  True  True]\n",
      " [False False False False False False False False]\n",
      " [False False False False False False False False]\n",
      " [False False False False False False False False]\n",
      " [False False False False False False False False]\n",
      " [False False False False False False False False]]\n",
      "Color 2: [3, 5]\n",
      "[[False False False False False False False False]\n",
      " [False False False False False False False False]\n",
      " [False False False False False False False False]\n",
      " [False False False  True  True  True  True  True]\n",
      " [False False False  True  True  True  True  True]\n",
      " [False False False  True  True  True  True  True]\n",
      " [False False False  True  True  True  True  True]\n",
      " [False False False  True  True  True  True  True]]\n",
      "Color 3: [3, 0]\n"
     ]
    }
   ],
   "source": [
    "xy = {}\n",
    "for p in range(n):\n",
    "    # DEBUG\n",
    "    print(solution[:, :, p])\n",
    "    # DEBUG\n",
    "    for i in range(h-1, -1, -1):\n",
    "        for j in range(w):\n",
    "            if solution[i, j, p] and p not in xy:\n",
    "                xy[p] = [j, h-1-i]\n",
    "                print('Color {}: [{}, {}]'.format(p, j, h-1-i))"
   ]
  },
  {
   "cell_type": "code",
   "execution_count": 12,
   "metadata": {},
   "outputs": [
    {
     "data": {
      "text/plain": [
       "{0: [0, 0], 1: [0, 3], 2: [3, 5], 3: [3, 0]}"
      ]
     },
     "execution_count": 12,
     "metadata": {},
     "output_type": "execute_result"
    }
   ],
   "source": [
    "xy"
   ]
  },
  {
   "cell_type": "code",
   "execution_count": 13,
   "metadata": {},
   "outputs": [],
   "source": [
    "output_filename = '../../Instances/8x8_sol.txt'\n",
    "with open(output_filename, 'w') as f_out:\n",
    "    f_out.write('{} {}\\n'.format(w, h))\n",
    "    f_out.write('{}\\n'.format(n))\n",
    "    for i in range(n):\n",
    "        f_out.write('{} {}\\t{} {}\\n'.format(DX[i], DY[i], xy[i][0], xy[i][1]))"
   ]
  },
  {
   "cell_type": "code",
   "execution_count": null,
   "metadata": {},
   "outputs": [],
   "source": []
  }
 ],
 "metadata": {
  "kernelspec": {
   "display_name": "Optimization",
   "language": "python",
   "name": "optimai"
  },
  "language_info": {
   "codemirror_mode": {
    "name": "ipython",
    "version": 3
   },
   "file_extension": ".py",
   "mimetype": "text/x-python",
   "name": "python",
   "nbconvert_exporter": "python",
   "pygments_lexer": "ipython3",
   "version": "3.8.5"
  }
 },
 "nbformat": 4,
 "nbformat_minor": 4
}
