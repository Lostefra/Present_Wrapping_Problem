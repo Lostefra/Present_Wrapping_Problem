{
 "cells": [
  {
   "cell_type": "code",
   "execution_count": 1,
   "metadata": {},
   "outputs": [],
   "source": [
    "from z3 import *\n",
    "import numpy as np\n",
    "from itertools import combinations\n",
    "from typing import Sequence\n",
    "from tqdm.notebook import tqdm"
   ]
  },
  {
   "cell_type": "markdown",
   "metadata": {},
   "source": [
    "Read instance file:"
   ]
  },
  {
   "cell_type": "code",
   "execution_count": 2,
   "metadata": {},
   "outputs": [],
   "source": [
    "input_filename = '../../Instances/16x16-ide.txt'\n",
    "\n",
    "w, h, n, DX, DY = None, None, None, None, None\n",
    "\n",
    "with open(input_filename, 'r') as f_in:\n",
    "    lines = f_in.read().splitlines()\n",
    "\n",
    "    split = lines[0].split(' ')\n",
    "    w = int(split[0])\n",
    "    h = int(split[1])\n",
    "\n",
    "    n = int(lines[1])\n",
    "\n",
    "    DX = []\n",
    "    DY = []\n",
    "\n",
    "    for i in range(int(n)):\n",
    "        split = lines[i + 2].split(' ')\n",
    "        DX.append(int(split[0]))\n",
    "        DY.append(int(split[1]))"
   ]
  },
  {
   "cell_type": "code",
   "execution_count": 3,
   "metadata": {},
   "outputs": [
    {
     "name": "stdout",
     "output_type": "stream",
     "text": [
      "{(3, 3): [0], (3, 4): [1, 3, 6, 9], (3, 5): [2], (3, 6): [4], (3, 7): [5], (3, 8): [7], (3, 10): [8], (4, 7): [10], (7, 9): [11]}\n"
     ]
    }
   ],
   "source": [
    "indexes = {}\n",
    "for idx, dim in enumerate(zip(DX, DY)):\n",
    "    if dim in indexes:\n",
    "        indexes[dim] += [idx]\n",
    "    else:\n",
    "        indexes[dim] = [idx]\n",
    "\n",
    "print(indexes)"
   ]
  },
  {
   "cell_type": "markdown",
   "metadata": {},
   "source": [
    "Solver:"
   ]
  },
  {
   "cell_type": "code",
   "execution_count": 4,
   "metadata": {},
   "outputs": [],
   "source": [
    "solver = Solver()"
   ]
  },
  {
   "cell_type": "markdown",
   "metadata": {},
   "source": [
    "Model:"
   ]
  },
  {
   "cell_type": "code",
   "execution_count": 5,
   "metadata": {},
   "outputs": [],
   "source": [
    "B = [[[Bool(f'B_{i}_{j}_{k}') for k in range(n)] for j in range(w)] for i in range(h)]"
   ]
  },
  {
   "cell_type": "code",
   "execution_count": 6,
   "metadata": {},
   "outputs": [],
   "source": [
    "def at_least_one(bool_vars: Sequence):\n",
    "    return Or(bool_vars)\n",
    "\n",
    "def at_most_one(bool_vars: Sequence):\n",
    "    return [Not(And(pair[0], pair[1])) for pair in combinations(bool_vars, 2)]"
   ]
  },
  {
   "cell_type": "code",
   "execution_count": 7,
   "metadata": {},
   "outputs": [],
   "source": [
    "# Constraint \"at most one piece\"\n",
    "for i in range(h):\n",
    "    for j in range(w):\n",
    "        solver.add(at_most_one(B[i][j]))"
   ]
  },
  {
   "cell_type": "code",
   "execution_count": 8,
   "metadata": {},
   "outputs": [],
   "source": [
    "def is_valid(i1, j1, i2, j2, dx, dy):\n",
    "    right = (j2 >= j1 + dx) and (i2 <= i1)\n",
    "    up = (i2 <= i1 - dy) and (j2 >=j1)\n",
    "    return right or up\n",
    "\n",
    "# Iterate over all the dimensions\n",
    "for (dx, dy), p_list in indexes.items():\n",
    "    if len(p_list) > 1:  # case 1: multiple identical pieces\n",
    "        # Iterate over identical pieces in pairs\n",
    "        for i in range(len(p_list) - 1):\n",
    "            p1 = p_list[i]\n",
    "            p2 = p_list[i+1]\n",
    "\n",
    "            package_clauses_p1 = {}\n",
    "            package_clauses_p2 = {}\n",
    "            package_clauses_joint = []\n",
    "\n",
    "            # Iterate over all the coordinates where p can fit\n",
    "            for i in range(h - dy + 1):\n",
    "                for j in range(w - dx + 1):\n",
    "\n",
    "                    patch_clauses_p1 = []\n",
    "                    patch_clauses_p2 = []\n",
    "                    # Iterate over the cells of p's patch\n",
    "                    for f1 in range(dy):\n",
    "                        for f2 in range(dx):\n",
    "                            patch_clauses_p1.append(B[i + f1][j + f2][p1])\n",
    "                            patch_clauses_p2.append(B[i + f1][j + f2][p2])\n",
    "                    \n",
    "                    # (i+dy-1, j) bottom-left corner\n",
    "                    package_clauses_p1[(i + dy - 1, j)] = And(patch_clauses_p1)\n",
    "                    package_clauses_p2[(i + dy - 1, j)] = And(patch_clauses_p2)\n",
    "            \n",
    "            # Filter valid p2 clauses\n",
    "            for (i1, j1), patch_p1 in package_clauses_p1.items():\n",
    "                # Condition for validity: i2 <= i1 and j2 >= j1\n",
    "                valid_patches_p2 = [patch_p2 for (i2, j2), patch_p2 in package_clauses_p2.items() if is_valid(i1, j1, i2, j2, dx, dy)]\n",
    "                \n",
    "                package_clauses_joint.append(And(patch_p1, at_least_one(valid_patches_p2)))\n",
    "                \n",
    "            solver.add(at_least_one(package_clauses_joint))\n",
    "    else:  # case 2: unique piece\n",
    "        p = p_list[0]\n",
    "        package_clauses = []\n",
    "\n",
    "        # Iterate over all the coordinates where p can fit\n",
    "        for i in range(h - dy + 1):\n",
    "            for j in range(w - dx + 1):\n",
    "\n",
    "                patch_clauses = []\n",
    "                # Iterate over the cells of p's patch\n",
    "                for f1 in range(dy):\n",
    "                    for f2 in range(dx):\n",
    "                        patch_clauses.append(B[i + f1][j + f2][p])\n",
    "\n",
    "                package_clauses.append(And(patch_clauses))\n",
    "\n",
    "        solver.add(at_least_one(package_clauses))"
   ]
  },
  {
   "cell_type": "code",
   "execution_count": 9,
   "metadata": {},
   "outputs": [
    {
     "name": "stdout",
     "output_type": "stream",
     "text": [
      "CPU times: user 3.03 s, sys: 7.48 ms, total: 3.04 s\n",
      "Wall time: 3.06 s\n"
     ]
    },
    {
     "data": {
      "text/html": [
       "<b>sat</b>"
      ],
      "text/plain": [
       "sat"
      ]
     },
     "execution_count": 9,
     "metadata": {},
     "output_type": "execute_result"
    }
   ],
   "source": [
    "%%time\n",
    "solver.check()"
   ]
  },
  {
   "cell_type": "markdown",
   "metadata": {},
   "source": [
    "From Z3 model solution to file:"
   ]
  },
  {
   "cell_type": "code",
   "execution_count": 10,
   "metadata": {},
   "outputs": [],
   "source": [
    "solution = np.zeros((h, w, n), dtype=bool)\n",
    "model = solver.model()\n",
    "\n",
    "for i in range(h):\n",
    "    for j in range(w):\n",
    "        for k in range(n):\n",
    "            solution[i, j, k] = is_true(model[B[i][j][k]])"
   ]
  },
  {
   "cell_type": "code",
   "execution_count": 11,
   "metadata": {},
   "outputs": [],
   "source": [
    "xy = {}\n",
    "for p in range(n):\n",
    "    y_ids, x_ids = solution[:, :, p].nonzero()\n",
    "    #print(solution[:, :, p])\n",
    "    x = np.min(x_ids)\n",
    "    y = h-1-np.max(y_ids)\n",
    "    xy[p] = [x, y]"
   ]
  },
  {
   "cell_type": "code",
   "execution_count": 12,
   "metadata": {},
   "outputs": [
    {
     "data": {
      "text/plain": [
       "{0: [0, 8],\n",
       " 1: [6, 0],\n",
       " 2: [0, 11],\n",
       " 3: [6, 4],\n",
       " 4: [3, 0],\n",
       " 5: [13, 9],\n",
       " 6: [6, 8],\n",
       " 7: [0, 0],\n",
       " 8: [3, 6],\n",
       " 9: [6, 12],\n",
       " 10: [9, 9],\n",
       " 11: [9, 0]}"
      ]
     },
     "execution_count": 12,
     "metadata": {},
     "output_type": "execute_result"
    }
   ],
   "source": [
    "xy"
   ]
  },
  {
   "cell_type": "code",
   "execution_count": 13,
   "metadata": {},
   "outputs": [],
   "source": [
    "output_filename = '../../pwp_utilities/16x16.txt'\n",
    "with open(output_filename, 'w') as f_out:\n",
    "    f_out.write('{} {}\\n'.format(w, h))\n",
    "    f_out.write('{}\\n'.format(n))\n",
    "    for i in range(n):\n",
    "        f_out.write('{} {}\\t{} {}\\n'.format(DX[i], DY[i], xy[i][0], xy[i][1]))"
   ]
  },
  {
   "cell_type": "code",
   "execution_count": null,
   "metadata": {},
   "outputs": [],
   "source": []
  }
 ],
 "metadata": {
  "kernelspec": {
   "display_name": "Optimization",
   "language": "python",
   "name": "optimai"
  },
  "language_info": {
   "codemirror_mode": {
    "name": "ipython",
    "version": 3
   },
   "file_extension": ".py",
   "mimetype": "text/x-python",
   "name": "python",
   "nbconvert_exporter": "python",
   "pygments_lexer": "ipython3",
   "version": "3.8.5"
  }
 },
 "nbformat": 4,
 "nbformat_minor": 4
}
