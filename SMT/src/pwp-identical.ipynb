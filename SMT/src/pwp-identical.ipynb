{
 "cells": [
  {
   "cell_type": "code",
   "execution_count": 1,
   "metadata": {},
   "outputs": [],
   "source": [
    "from z3 import *\n",
    "from itertools import combinations\n",
    "from typing import Sequence"
   ]
  },
  {
   "cell_type": "markdown",
   "metadata": {},
   "source": [
    "Read instance file:"
   ]
  },
  {
   "cell_type": "code",
   "execution_count": 2,
   "metadata": {},
   "outputs": [],
   "source": [
    "input_filename = '../../Instances/15x15-ide.txt'\n",
    "\n",
    "w, h, n, DX, DY = None, None, None, None, None\n",
    "\n",
    "with open(input_filename, 'r') as f_in:\n",
    "    lines = f_in.read().splitlines()\n",
    "\n",
    "    split = lines[0].split(' ')\n",
    "    w = int(split[0])\n",
    "    h = int(split[1])\n",
    "\n",
    "    n = int(lines[1])\n",
    "\n",
    "    DX = []\n",
    "    DY = []\n",
    "\n",
    "    for i in range(int(n)):\n",
    "        split = lines[i + 2].split(' ')\n",
    "        DX.append(int(split[0]))\n",
    "        DY.append(int(split[1]))"
   ]
  },
  {
   "cell_type": "markdown",
   "metadata": {},
   "source": [
    "Solver:"
   ]
  },
  {
   "cell_type": "code",
   "execution_count": 3,
   "metadata": {},
   "outputs": [],
   "source": [
    "solver = Solver()"
   ]
  },
  {
   "cell_type": "markdown",
   "metadata": {},
   "source": [
    "Model:"
   ]
  },
  {
   "cell_type": "code",
   "execution_count": 4,
   "metadata": {},
   "outputs": [
    {
     "data": {
      "text/plain": [
       "[(XY_0_0, XY_0_1),\n",
       " (XY_1_0, XY_1_1),\n",
       " (XY_2_0, XY_2_1),\n",
       " (XY_3_0, XY_3_1),\n",
       " (XY_4_0, XY_4_1),\n",
       " (XY_5_0, XY_5_1),\n",
       " (XY_6_0, XY_6_1),\n",
       " (XY_7_0, XY_7_1),\n",
       " (XY_8_0, XY_8_1),\n",
       " (XY_9_0, XY_9_1),\n",
       " (XY_10_0, XY_10_1),\n",
       " (XY_11_0, XY_11_1)]"
      ]
     },
     "execution_count": 4,
     "metadata": {},
     "output_type": "execute_result"
    }
   ],
   "source": [
    "XY = [(Int(f'XY_{i}_0'), Int(f'XY_{i}_1')) for i in range(n)]\n",
    "XY"
   ]
  },
  {
   "cell_type": "markdown",
   "metadata": {},
   "source": [
    "Constraints:"
   ]
  },
  {
   "cell_type": "code",
   "execution_count": 5,
   "metadata": {},
   "outputs": [],
   "source": [
    "# Non-overlapping constraint\n",
    "for (i, j) in combinations(range(n), 2):\n",
    "    solver.add(Or(XY[i][0] + DX[i] <= XY[j][0], \n",
    "                  XY[j][0] + DX[j] <= XY[i][0],\n",
    "                  XY[i][1] + DY[i] <= XY[j][1],\n",
    "                  XY[j][1] + DY[j] <= XY[i][1]))"
   ]
  },
  {
   "cell_type": "code",
   "execution_count": 6,
   "metadata": {},
   "outputs": [],
   "source": [
    "# Boundaries consistency constraint\n",
    "for i in range(n):\n",
    "    solver.add(XY[i][0] >=0)\n",
    "    solver.add(XY[i][1] >= 0)\n",
    "    solver.add(XY[i][0] + DX[i] <= w)\n",
    "    solver.add(XY[i][1] + DY[i] <= h)"
   ]
  },
  {
   "cell_type": "code",
   "execution_count": 7,
   "metadata": {},
   "outputs": [],
   "source": [
    "# Cumulative constraint\n",
    "def cumulative(solver, S: Sequence, D: Sequence, R: Sequence, C: int):\n",
    "    # Iterate over the durations\n",
    "    for u in D:\n",
    "        solver.add(\n",
    "            Sum(\n",
    "                [If(And(S[i] <= u, u < S[i] + D[i]), R[i], 0) for i in range(n)]\n",
    "            ) <= C)\n",
    "\n",
    "# Implied constraints\n",
    "cumulative(solver,\n",
    "           S=list(map(lambda t: t[0], XY)),  # take x coordinates\n",
    "           D=DX,\n",
    "           R=DY,\n",
    "           C=h)\n",
    "cumulative(solver,\n",
    "           S=list(map(lambda t: t[1], XY)),  # take y coordinates\n",
    "           D=DY,\n",
    "           R=DX,\n",
    "           C=w)"
   ]
  },
  {
   "cell_type": "markdown",
   "metadata": {},
   "source": [
    "Ordering constraint"
   ]
  },
  {
   "cell_type": "code",
   "execution_count": 8,
   "metadata": {},
   "outputs": [],
   "source": [
    "def is_valid(x_i, y_i, x_j, y_j, dx, dy):\n",
    "    right = And(x_j >= x_i + dx, y_j >= y_i)\n",
    "    up = And(y_j >= y_i + dy, x_j >= x_i)\n",
    "    return Or(right, up)\n",
    "\n",
    "for (i, j) in combinations(range(n), 2):\n",
    "    # (DX[i] = DX[j] /\\ DY[i] = DY[j]) -> (XY[i][0] <= XY[j][0] /\\ XY[i][1] <= XY[j][1])\n",
    "    solver.add(Or(Not(And(DX[i] == DX[j], DY[i] == DY[j])), is_valid(XY[i][0], XY[i][1], XY[j][0], XY[j][1], DX[i], DY[i])))"
   ]
  },
  {
   "cell_type": "code",
   "execution_count": 9,
   "metadata": {},
   "outputs": [
    {
     "name": "stdout",
     "output_type": "stream",
     "text": [
      "CPU times: user 126 ms, sys: 4.59 ms, total: 131 ms\n",
      "Wall time: 129 ms\n"
     ]
    },
    {
     "data": {
      "text/html": [
       "<b>sat</b>"
      ],
      "text/plain": [
       "sat"
      ]
     },
     "execution_count": 9,
     "metadata": {},
     "output_type": "execute_result"
    }
   ],
   "source": [
    "%%time\n",
    "solver.check()"
   ]
  },
  {
   "cell_type": "markdown",
   "metadata": {},
   "source": [
    "From Z3 model solution to file:"
   ]
  },
  {
   "cell_type": "code",
   "execution_count": 10,
   "metadata": {},
   "outputs": [
    {
     "data": {
      "text/plain": [
       "[(6, 9),\n",
       " (0, 4),\n",
       " (0, 0),\n",
       " (12, 10),\n",
       " (0, 6),\n",
       " (0, 8),\n",
       " (12, 0),\n",
       " (12, 8),\n",
       " (6, 0),\n",
       " (3, 0),\n",
       " (9, 0),\n",
       " (3, 12)]"
      ]
     },
     "execution_count": 10,
     "metadata": {},
     "output_type": "execute_result"
    }
   ],
   "source": [
    "model = solver.model()\n",
    "\n",
    "xy = [(model[XY[i][0]], model[XY[i][1]]) for i in range(n)]\n",
    "xy"
   ]
  },
  {
   "cell_type": "code",
   "execution_count": 11,
   "metadata": {},
   "outputs": [],
   "source": [
    "output_filename = '../../pwp_utilities/15x15-ide.txt'\n",
    "with open(output_filename, 'w') as f_out:\n",
    "    f_out.write('{} {}\\n'.format(w, h))\n",
    "    f_out.write('{}\\n'.format(n))\n",
    "    for i in range(n):\n",
    "        f_out.write('{} {}\\t{} {}\\n'.format(DX[i], DY[i], xy[i][0], xy[i][1]))"
   ]
  },
  {
   "cell_type": "code",
   "execution_count": null,
   "metadata": {},
   "outputs": [],
   "source": []
  }
 ],
 "metadata": {
  "kernelspec": {
   "display_name": "Optimization",
   "language": "python",
   "name": "optimai"
  },
  "language_info": {
   "codemirror_mode": {
    "name": "ipython",
    "version": 3
   },
   "file_extension": ".py",
   "mimetype": "text/x-python",
   "name": "python",
   "nbconvert_exporter": "python",
   "pygments_lexer": "ipython3",
   "version": "3.8.5"
  }
 },
 "nbformat": 4,
 "nbformat_minor": 4
}
