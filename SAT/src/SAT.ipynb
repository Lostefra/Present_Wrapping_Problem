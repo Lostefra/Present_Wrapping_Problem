{
 "cells": [
  {
   "cell_type": "code",
   "execution_count": 1,
   "metadata": {},
   "outputs": [],
   "source": [
    "from z3 import *\n",
    "import numpy as np\n",
    "from itertools import combinations\n",
    "from typing import Sequence\n",
    "from tqdm.notebook import tqdm"
   ]
  },
  {
   "cell_type": "markdown",
   "metadata": {},
   "source": [
    "Read instance file:"
   ]
  },
  {
   "cell_type": "code",
   "execution_count": 2,
   "metadata": {},
   "outputs": [],
   "source": [
    "input_filename = '../../Instances/20x20.txt'\n",
    "\n",
    "w, h, n, DX, DY = None, None, None, None, None\n",
    "\n",
    "with open(input_filename, 'r') as f_in:\n",
    "    lines = f_in.read().splitlines()\n",
    "\n",
    "    split = lines[0].split(' ')\n",
    "    w = int(split[0])\n",
    "    h = int(split[1])\n",
    "\n",
    "    n = int(lines[1])\n",
    "\n",
    "    DX = []\n",
    "    DY = []\n",
    "\n",
    "    for i in range(int(n)):\n",
    "        split = lines[i+2].split(' ')\n",
    "        DX.append(int(split[0]))\n",
    "        DY.append(int(split[1]))"
   ]
  },
  {
   "cell_type": "markdown",
   "metadata": {},
   "source": [
    "Solver:"
   ]
  },
  {
   "cell_type": "code",
   "execution_count": 3,
   "metadata": {},
   "outputs": [],
   "source": [
    "solver = Solver()"
   ]
  },
  {
   "cell_type": "markdown",
   "metadata": {},
   "source": [
    "Model:"
   ]
  },
  {
   "cell_type": "code",
   "execution_count": 4,
   "metadata": {},
   "outputs": [],
   "source": [
    "B = [[[Bool(f'B_{i}_{j}_{k}') for k in range(n)] for j in range(w)] for i in range(h)]"
   ]
  },
  {
   "cell_type": "code",
   "execution_count": 5,
   "metadata": {},
   "outputs": [],
   "source": [
    "def at_least_one(bool_vars: Sequence):\n",
    "    return Or(bool_vars)\n",
    "\n",
    "def at_most_one(bool_vars: Sequence):\n",
    "    return [Not(And(pair[0], pair[1])) for pair in combinations(bool_vars, 2)]"
   ]
  },
  {
   "cell_type": "code",
   "execution_count": 6,
   "metadata": {},
   "outputs": [],
   "source": [
    "# Constraint \"at most one piece\"\n",
    "for i in range(h):\n",
    "    for j in range(w):\n",
    "        solver.add(at_most_one(B[i][j]))"
   ]
  },
  {
   "cell_type": "code",
   "execution_count": 7,
   "metadata": {},
   "outputs": [
    {
     "data": {
      "application/vnd.jupyter.widget-view+json": {
       "model_id": "647b9b6384444f258dce709b26c5ed03",
       "version_major": 2,
       "version_minor": 0
      },
      "text/plain": [
       "  0%|          | 0/14 [00:00<?, ?it/s]"
      ]
     },
     "metadata": {},
     "output_type": "display_data"
    }
   ],
   "source": [
    "# Iterate over all the pieces p\n",
    "for p in tqdm(range(n), leave=False):\n",
    "    dx = DX[p]\n",
    "    dy = DY[p]\n",
    "    \n",
    "    package_clauses = []\n",
    "    \n",
    "    # Iterate over all the coordinates where p can fit\n",
    "    for i in range(h - dy + 1):\n",
    "        for j in range(w - dx + 1):\n",
    "            \n",
    "            patch_clauses = []\n",
    "            # Iterate over the cells of p's patch\n",
    "            for f1 in range(dy):\n",
    "                for f2 in range(dx):\n",
    "                    patch_clauses.append(B[i + f1][j + f2][p])\n",
    "            \n",
    "            package_clauses.append(And(patch_clauses))\n",
    "    \n",
    "    # Exactly one\n",
    "    solver.add(at_least_one(package_clauses))\n",
    "    # solver.add(at_most_one(package_clauses))"
   ]
  },
  {
   "cell_type": "code",
   "execution_count": 8,
   "metadata": {},
   "outputs": [],
   "source": [
    "Sr = [[Bool(f'C_row_{i}_{j}') for j in range(w)] for i in range(w-1)]\n",
    "Sc = [[Bool(f'C_col_{i}_{j}') for j in range(h)] for i in range(h-1)]"
   ]
  },
  {
   "cell_type": "code",
   "execution_count": 9,
   "metadata": {},
   "outputs": [
    {
     "data": {
      "application/vnd.jupyter.widget-view+json": {
       "model_id": "f1a2bd2f74514083a4fc03782d61fa8a",
       "version_major": 2,
       "version_minor": 0
      },
      "text/plain": [
       "  0%|          | 0/20 [00:00<?, ?it/s]"
      ]
     },
     "metadata": {},
     "output_type": "display_data"
    },
    {
     "data": {
      "application/vnd.jupyter.widget-view+json": {
       "model_id": "8e810f0853434715afc3da2ab08210c6",
       "version_major": 2,
       "version_minor": 0
      },
      "text/plain": [
       "  0%|          | 0/20 [00:00<?, ?it/s]"
      ]
     },
     "metadata": {},
     "output_type": "display_data"
    }
   ],
   "source": [
    "# Rows\n",
    "for r in tqdm(range(h), leave=False):\n",
    "    solver.add(Or(Not(at_least_one(B[r][0])), Sr[0][0]))  # SC1\n",
    "    for j in range(1, w):\n",
    "        solver.add(Not(Sr[0][j]))  # SC2\n",
    "    for i in range(1, w - 1):\n",
    "        solver.add(Or(Not(at_least_one(B[r][i])), Sr[i][0]))  # SC3\n",
    "        solver.add(Or(Not(Sr[i - 1][0]), Sr[i][0]))  # SC4\n",
    "        for j in range(1, w):\n",
    "            solver.add(Or(Not(at_least_one(B[r][i])), Not(Sr[i - 1][j - 1]), Sr[i][j]))  # SC5\n",
    "            solver.add(Or(Not(Sr[i - 1][j]), Sr[i][j]))  # SC6\n",
    "        solver.add(Or(Not(at_least_one(B[r][i])), Not(Sr[i - 1][w - 1])))  # SC7\n",
    "    solver.add(Or(Not(at_least_one(B[r][w - 1])), Not(Sr[w - 2][w - 1])))  # SC8\n",
    "\n",
    "# Columns\n",
    "for c in tqdm(range(w), leave=False):\n",
    "    solver.add(Or(Not(at_least_one(B[0][c])), Sc[0][0]))  # SC1\n",
    "    for j in range(1, h):\n",
    "        solver.add(Not(Sc[0][j]))  # SC2\n",
    "    for i in range(1, h - 1):\n",
    "        solver.add(Or(Not(at_least_one(B[i][c])), Sc[i][0]))  # SC3\n",
    "        solver.add(Or(Not(Sr[i - 1][0]), Sc[i][0]))  # SC4\n",
    "        for j in range(1, h):\n",
    "            solver.add(Or(Not(at_least_one(B[i][c])), Not(Sc[i - 1][j - 1]), Sc[i][j]))  # SC5\n",
    "            solver.add(Or(Not(Sc[i - 1][j]), Sc[i][j]))  # SC6\n",
    "        solver.add(Or(Not(at_least_one(B[i][c])), Not(Sc[i - 1][h - 1])))  # SC7\n",
    "    solver.add(Or(Not(at_least_one(B[h - 1][c])), Not(Sc[h - 2][h - 1])))  # SC8"
   ]
  },
  {
   "cell_type": "code",
   "execution_count": 10,
   "metadata": {},
   "outputs": [
    {
     "name": "stdout",
     "output_type": "stream",
     "text": [
      "CPU times: user 5.68 s, sys: 16 ms, total: 5.7 s\n",
      "Wall time: 5.71 s\n"
     ]
    },
    {
     "data": {
      "text/html": [
       "<b>sat</b>"
      ],
      "text/plain": [
       "sat"
      ]
     },
     "execution_count": 10,
     "metadata": {},
     "output_type": "execute_result"
    }
   ],
   "source": [
    "%%time\n",
    "solver.check()"
   ]
  },
  {
   "cell_type": "markdown",
   "metadata": {},
   "source": [
    "From Z3 model solution to file:"
   ]
  },
  {
   "cell_type": "code",
   "execution_count": 11,
   "metadata": {},
   "outputs": [],
   "source": [
    "solution = np.zeros((h, w, n), dtype=bool)\n",
    "model = solver.model()\n",
    "\n",
    "for i in range(h):\n",
    "    for j in range(w):\n",
    "        for k in range(n):\n",
    "            solution[i, j, k] = is_true(model[B[i][j][k]])"
   ]
  },
  {
   "cell_type": "code",
   "execution_count": 12,
   "metadata": {},
   "outputs": [],
   "source": [
    "xy = {}\n",
    "for p in range(n):\n",
    "    y_ids, x_ids = solution[:, :, p].nonzero()\n",
    "    #print(solution[:, :, p])\n",
    "    x = np.min(x_ids)\n",
    "    y = h-1-np.max(y_ids)\n",
    "    xy[p] = [x, y]"
   ]
  },
  {
   "cell_type": "code",
   "execution_count": 13,
   "metadata": {},
   "outputs": [
    {
     "data": {
      "text/plain": [
       "{0: [11, 0],\n",
       " 1: [17, 16],\n",
       " 2: [8, 0],\n",
       " 3: [17, 0],\n",
       " 4: [8, 13],\n",
       " 5: [8, 5],\n",
       " 6: [14, 11],\n",
       " 7: [17, 6],\n",
       " 8: [14, 0],\n",
       " 9: [11, 3],\n",
       " 10: [0, 0],\n",
       " 11: [4, 0],\n",
       " 12: [4, 9],\n",
       " 13: [0, 3]}"
      ]
     },
     "execution_count": 13,
     "metadata": {},
     "output_type": "execute_result"
    }
   ],
   "source": [
    "xy"
   ]
  },
  {
   "cell_type": "code",
   "execution_count": 14,
   "metadata": {},
   "outputs": [],
   "source": [
    "output_filename = '../../pwp_utilities/20x20_sol.txt'\n",
    "with open(output_filename, 'w') as f_out:\n",
    "    f_out.write('{} {}\\n'.format(w, h))\n",
    "    f_out.write('{}\\n'.format(n))\n",
    "    for i in range(n):\n",
    "        f_out.write('{} {}\\t{} {}\\n'.format(DX[i], DY[i], xy[i][0], xy[i][1]))"
   ]
  },
  {
   "cell_type": "code",
   "execution_count": null,
   "metadata": {},
   "outputs": [],
   "source": []
  }
 ],
 "metadata": {
  "kernelspec": {
   "display_name": "Python 3",
   "language": "python",
   "name": "python3"
  },
  "language_info": {
   "codemirror_mode": {
    "name": "ipython",
    "version": 3
   },
   "file_extension": ".py",
   "mimetype": "text/x-python",
   "name": "python",
   "nbconvert_exporter": "python",
   "pygments_lexer": "ipython3",
   "version": "3.8.5"
  }
 },
 "nbformat": 4,
 "nbformat_minor": 4
}
