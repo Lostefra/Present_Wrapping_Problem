{
 "cells": [
  {
   "cell_type": "code",
   "execution_count": 1,
   "metadata": {},
   "outputs": [],
   "source": [
    "from z3 import *\n",
    "import numpy as np\n",
    "from itertools import combinations\n",
    "from typing import Sequence\n",
    "from tqdm.notebook import tqdm"
   ]
  },
  {
   "cell_type": "markdown",
   "metadata": {},
   "source": [
    "Read instance file:"
   ]
  },
  {
   "cell_type": "code",
   "execution_count": 2,
   "metadata": {},
   "outputs": [],
   "source": [
    "input_filename = '../../Instances/12x12.txt'\n",
    "\n",
    "w, h, n, DX, DY = None, None, None, None, None\n",
    "\n",
    "with open(input_filename, 'r') as f_in:\n",
    "    lines = f_in.read().splitlines()\n",
    "\n",
    "    split = lines[0].split(' ')\n",
    "    w = int(split[0])\n",
    "    h = int(split[1])\n",
    "\n",
    "    n = int(lines[1])\n",
    "\n",
    "    DX = []\n",
    "    DY = []\n",
    "\n",
    "    for i in range(int(n)):\n",
    "        split = lines[i+2].split(' ')\n",
    "        DX.append(int(split[0]))\n",
    "        DY.append(int(split[1]))"
   ]
  },
  {
   "cell_type": "markdown",
   "metadata": {},
   "source": [
    "Solver:"
   ]
  },
  {
   "cell_type": "code",
   "execution_count": 3,
   "metadata": {},
   "outputs": [],
   "source": [
    "solver = Solver()"
   ]
  },
  {
   "cell_type": "markdown",
   "metadata": {},
   "source": [
    "Model:"
   ]
  },
  {
   "cell_type": "code",
   "execution_count": 4,
   "metadata": {},
   "outputs": [],
   "source": [
    "B = [[[Bool(f'B_{i}_{j}_{k}') for k in range(n)] for j in range(w)] for i in range(h)]\n",
    "R = [Bool(f'R_{k}') for k in range(n)]"
   ]
  },
  {
   "cell_type": "code",
   "execution_count": 5,
   "metadata": {},
   "outputs": [],
   "source": [
    "def at_least_one(bool_vars: Sequence):\n",
    "    return Or(bool_vars)\n",
    "\n",
    "def at_most_one(bool_vars: Sequence):\n",
    "    return [Not(And(pair[0], pair[1])) for pair in combinations(bool_vars, 2)]"
   ]
  },
  {
   "cell_type": "code",
   "execution_count": 6,
   "metadata": {},
   "outputs": [],
   "source": [
    "# Constraint \"at most one piece\"\n",
    "for i in range(h):\n",
    "    for j in range(w):\n",
    "        solver.add(at_most_one(B[i][j]))"
   ]
  },
  {
   "cell_type": "code",
   "execution_count": 7,
   "metadata": {},
   "outputs": [
    {
     "data": {
      "application/vnd.jupyter.widget-view+json": {
       "model_id": "",
       "version_major": 2,
       "version_minor": 0
      },
      "text/plain": [
       "  0%|          | 0/8 [00:00<?, ?it/s]"
      ]
     },
     "metadata": {},
     "output_type": "display_data"
    }
   ],
   "source": [
    "# Iterate over all the pieces p\n",
    "for p in tqdm(range(n), leave=False):    \n",
    "    dx = DX[p]\n",
    "    dy = DY[p]\n",
    "    \n",
    "    package_clauses = []\n",
    "    \n",
    "    # Iterate over all the coordinates where p can fit\n",
    "    for i in range(h - dy + 1):\n",
    "        for j in range(w - dx + 1):\n",
    "            \n",
    "            patch_clauses = []\n",
    "            # Iterate over the cells of p's patch\n",
    "            for f1 in range(dy):\n",
    "                for f2 in range(dx):\n",
    "                    patch_clauses.append(B[i + f1][j + f2][p])\n",
    "            \n",
    "            package_clauses.append(And(patch_clauses))\n",
    "            \n",
    "    solver.add(Or(R[p], at_least_one(package_clauses)))\n",
    "                \n",
    "    dx, dy = dy, dx\n",
    "    \n",
    "    package_clauses = []\n",
    "    \n",
    "    # Iterate over all the coordinates where p can fit\n",
    "    for i in range(h - dy + 1):\n",
    "        for j in range(w - dx + 1):\n",
    "            \n",
    "            patch_clauses = []\n",
    "            # Iterate over the cells of p's patch\n",
    "            for f1 in range(dy):\n",
    "                for f2 in range(dx):\n",
    "                    patch_clauses.append(B[i + f1][j + f2][p])\n",
    "            \n",
    "            package_clauses.append(And(patch_clauses))\n",
    "    \n",
    "    solver.add(Or(Not(R[p]), at_least_one(package_clauses)))"
   ]
  },
  {
   "cell_type": "code",
   "execution_count": 10,
   "metadata": {},
   "outputs": [
    {
     "name": "stdout",
     "output_type": "stream",
     "text": [
      "CPU times: user 604 ms, sys: 1.74 ms, total: 606 ms\n",
      "Wall time: 609 ms\n"
     ]
    },
    {
     "data": {
      "text/html": [
       "<b>sat</b>"
      ],
      "text/plain": [
       "sat"
      ]
     },
     "execution_count": 10,
     "metadata": {},
     "output_type": "execute_result"
    }
   ],
   "source": [
    "%%time\n",
    "solver.check()"
   ]
  },
  {
   "cell_type": "markdown",
   "metadata": {},
   "source": [
    "From Z3 model solution to file:"
   ]
  },
  {
   "cell_type": "code",
   "execution_count": 11,
   "metadata": {},
   "outputs": [],
   "source": [
    "solution = np.zeros((h, w, n), dtype=bool)\n",
    "model = solver.model()\n",
    "\n",
    "for i in range(h):\n",
    "    for j in range(w):\n",
    "        for k in range(n):\n",
    "            solution[i, j, k] = is_true(model[B[i][j][k]])"
   ]
  },
  {
   "cell_type": "code",
   "execution_count": 12,
   "metadata": {},
   "outputs": [],
   "source": [
    "xy = {}\n",
    "for p in range(n):\n",
    "    y_ids, x_ids = solution[:, :, p].nonzero()\n",
    "    #print(solution[:, :, p])\n",
    "    x = np.min(x_ids)\n",
    "    y = h-1-np.max(y_ids)\n",
    "    xy[p] = [x, y]"
   ]
  },
  {
   "cell_type": "code",
   "execution_count": 13,
   "metadata": {
    "scrolled": true
   },
   "outputs": [
    {
     "data": {
      "text/plain": [
       "{0: [3, 9],\n",
       " 1: [6, 0],\n",
       " 2: [0, 7],\n",
       " 3: [9, 6],\n",
       " 4: [0, 0],\n",
       " 5: [6, 4],\n",
       " 6: [3, 0],\n",
       " 7: [9, 0]}"
      ]
     },
     "execution_count": 13,
     "metadata": {},
     "output_type": "execute_result"
    }
   ],
   "source": [
    "xy"
   ]
  },
  {
   "cell_type": "code",
   "execution_count": 14,
   "metadata": {},
   "outputs": [
    {
     "name": "stdout",
     "output_type": "stream",
     "text": [
      "R\n"
     ]
    }
   ],
   "source": [
    "output_filename = '../../pwp_utilities/17x17_sol.txt'\n",
    "with open(output_filename, 'w') as f_out:\n",
    "    f_out.write('{} {}\\n'.format(w, h))\n",
    "    f_out.write('{}\\n'.format(n))\n",
    "    for i in range(n):\n",
    "        if is_true(model[R[i]]):\n",
    "            f_out.write('{} {}\\t{} {}\\n'.format(DY[i], DX[i], xy[i][0], xy[i][1]))\n",
    "            print('R')\n",
    "        else:\n",
    "            f_out.write('{} {}\\t{} {}\\n'.format(DX[i], DY[i], xy[i][0], xy[i][1]))"
   ]
  },
  {
   "cell_type": "code",
   "execution_count": null,
   "metadata": {},
   "outputs": [],
   "source": []
  }
 ],
 "metadata": {
  "kernelspec": {
   "display_name": "Optimization",
   "language": "python",
   "name": "optimai"
  },
  "language_info": {
   "codemirror_mode": {
    "name": "ipython",
    "version": 3
   },
   "file_extension": ".py",
   "mimetype": "text/x-python",
   "name": "python",
   "nbconvert_exporter": "python",
   "pygments_lexer": "ipython3",
   "version": "3.8.5"
  }
 },
 "nbformat": 4,
 "nbformat_minor": 4
}
