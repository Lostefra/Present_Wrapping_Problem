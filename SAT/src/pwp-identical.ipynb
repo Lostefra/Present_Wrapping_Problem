{
 "cells": [
  {
   "cell_type": "code",
   "execution_count": 1,
   "metadata": {},
   "outputs": [],
   "source": [
    "from z3 import *\n",
    "import numpy as np\n",
    "from itertools import combinations\n",
    "from typing import Sequence\n",
    "from tqdm.notebook import tqdm"
   ]
  },
  {
   "cell_type": "markdown",
   "metadata": {},
   "source": [
    "Read instance file:"
   ]
  },
  {
   "cell_type": "code",
   "execution_count": 2,
   "metadata": {},
   "outputs": [],
   "source": [
    "input_filename = '../../Instances/16x16_identical.txt'\n",
    "\n",
    "w, h, n, DX, DY = None, None, None, None, None\n",
    "\n",
    "with open(input_filename, 'r') as f_in:\n",
    "    lines = f_in.read().splitlines()\n",
    "\n",
    "    split = lines[0].split(' ')\n",
    "    w = int(split[0])\n",
    "    h = int(split[1])\n",
    "\n",
    "    n = int(lines[1])\n",
    "\n",
    "    DX = []\n",
    "    DY = []\n",
    "\n",
    "    for i in range(int(n)):\n",
    "        split = lines[i+2].split(' ')\n",
    "        DX.append(int(split[0]))\n",
    "        DY.append(int(split[1]))"
   ]
  },
  {
   "cell_type": "code",
   "execution_count": 3,
   "metadata": {},
   "outputs": [
    {
     "name": "stdout",
     "output_type": "stream",
     "text": [
      "{(3, 3): [0], (3, 2): [1, 11], (3, 5): [2, 6, 9], (3, 6): [3], (3, 7): [4], (3, 8): [5], (3, 12): [7], (4, 7): [8], (7, 9): [10]}\n"
     ]
    }
   ],
   "source": [
    "indexes = {}\n",
    "for idx, dim in enumerate(zip(DX, DY)):\n",
    "    if dim in indexes:\n",
    "        indexes[dim] += [idx]\n",
    "    else:\n",
    "        indexes[dim] = [idx]\n",
    "\n",
    "print(indexes)"
   ]
  },
  {
   "cell_type": "markdown",
   "metadata": {},
   "source": [
    "Solver:"
   ]
  },
  {
   "cell_type": "code",
   "execution_count": 4,
   "metadata": {},
   "outputs": [],
   "source": [
    "solver = Solver()"
   ]
  },
  {
   "cell_type": "markdown",
   "metadata": {},
   "source": [
    "Model:"
   ]
  },
  {
   "cell_type": "code",
   "execution_count": 5,
   "metadata": {},
   "outputs": [],
   "source": [
    "B = [[[Bool(f'B_{i}_{j}_{k}') for k in range(n)] for j in range(w)] for i in range(h)]"
   ]
  },
  {
   "cell_type": "code",
   "execution_count": 6,
   "metadata": {},
   "outputs": [],
   "source": [
    "def at_least_one(bool_vars: Sequence):\n",
    "    return Or(bool_vars)\n",
    "\n",
    "def at_most_one(bool_vars: Sequence):\n",
    "    return [Not(And(pair[0], pair[1])) for pair in combinations(bool_vars, 2)]"
   ]
  },
  {
   "cell_type": "code",
   "execution_count": 7,
   "metadata": {},
   "outputs": [],
   "source": [
    "# Constraint \"at most one piece\"\n",
    "for i in range(h):\n",
    "    for j in range(w):\n",
    "        solver.add(at_most_one(B[i][j]))"
   ]
  },
  {
   "cell_type": "code",
   "execution_count": 8,
   "metadata": {},
   "outputs": [],
   "source": [
    "# Iterate over all the dimensions\n",
    "for (dx, dy), p_list in indexes.items():\n",
    "    if len(p_list) > 1:        \n",
    "        for i in range(len(p_list)-1):\n",
    "            p1 = p_list[i]\n",
    "            p2 = p_list[i+1]\n",
    "\n",
    "            package_clauses_p1 = {}\n",
    "            package_clauses_p2 = {}\n",
    "            package_clauses_joint = []\n",
    "\n",
    "            # Iterate over all the coordinates where p can fit\n",
    "            for i in range(h - dy + 1):\n",
    "                for j in range(w - dx + 1):\n",
    "\n",
    "                    patch_clauses_p1 = []\n",
    "                    patch_clauses_p2 = []\n",
    "                    # Iterate over the cells of p's patch\n",
    "                    for f1 in range(dy):\n",
    "                        for f2 in range(dx):\n",
    "                            patch_clauses_p1.append(B[i + f1][j + f2][p1])\n",
    "                            patch_clauses_p2.append(B[i + f1][j + f2][p2])\n",
    "                    \n",
    "                    # (i+dy-1, j) bottom-left corner\n",
    "                    package_clauses_p1[(i+dy-1, j)] = And(patch_clauses_p1)\n",
    "                    package_clauses_p2[(i+dy-1, j)] = And(patch_clauses_p2)\n",
    "            \n",
    "            for (i1, j1), patch_p1 in package_clauses_p1.items():\n",
    "                # condition: i2 <= i1 and j2 >= j1\n",
    "                valid_patches_p2 = [patch_p2 for (i2, j2), patch_p2 in package_clauses_p2.items() if (i2 <= i1 and j2 >= j1)]\n",
    "                \n",
    "                package_clauses_joint.append(And(patch_p1, at_least_one(valid_patches_p2)))\n",
    "                \n",
    "            solver.add(at_least_one(package_clauses_joint))\n",
    "    else:\n",
    "        p = p_list[0]\n",
    "        package_clauses = []\n",
    "\n",
    "        # Iterate over all the coordinates where p can fit\n",
    "        for i in range(h - dy + 1):\n",
    "            for j in range(w - dx + 1):\n",
    "\n",
    "                patch_clauses = []\n",
    "                # Iterate over the cells of p's patch\n",
    "                for f1 in range(dy):\n",
    "                    for f2 in range(dx):\n",
    "                        patch_clauses.append(B[i + f1][j + f2][p])\n",
    "\n",
    "                package_clauses.append(And(patch_clauses))\n",
    "\n",
    "        solver.add(at_least_one(package_clauses))"
   ]
  },
  {
   "cell_type": "code",
   "execution_count": 8,
   "metadata": {},
   "outputs": [
    {
     "data": {
      "application/vnd.jupyter.widget-view+json": {
       "model_id": "ae9d9e91ef1744e79cb5a2a9f015b133",
       "version_major": 2,
       "version_minor": 0
      },
      "text/plain": [
       "  0%|          | 0/12 [00:00<?, ?it/s]"
      ]
     },
     "metadata": {},
     "output_type": "display_data"
    }
   ],
   "source": [
    "# Iterate over all the pieces p\n",
    "for p in tqdm(range(n), leave=False):\n",
    "    dx = DX[p]\n",
    "    dy = DY[p]\n",
    "    \n",
    "    package_clauses = []\n",
    "    \n",
    "    # Iterate over all the coordinates where p can fit\n",
    "    for i in range(h - dy + 1):\n",
    "        for j in range(w - dx + 1):\n",
    "            \n",
    "            patch_clauses = []\n",
    "            # Iterate over the cells of p's patch\n",
    "            for f1 in range(dy):\n",
    "                for f2 in range(dx):\n",
    "                    patch_clauses.append(B[i + f1][j + f2][p])\n",
    "            \n",
    "            package_clauses.append(And(patch_clauses))\n",
    "\n",
    "    solver.add(at_least_one(package_clauses))"
   ]
  },
  {
   "cell_type": "code",
   "execution_count": 9,
   "metadata": {},
   "outputs": [
    {
     "name": "stdout",
     "output_type": "stream",
     "text": [
      "CPU times: user 3.38 s, sys: 15.2 ms, total: 3.4 s\n",
      "Wall time: 3.4 s\n"
     ]
    },
    {
     "data": {
      "text/html": [
       "<b>sat</b>"
      ],
      "text/plain": [
       "sat"
      ]
     },
     "execution_count": 9,
     "metadata": {},
     "output_type": "execute_result"
    }
   ],
   "source": [
    "%%time\n",
    "solver.check()"
   ]
  },
  {
   "cell_type": "markdown",
   "metadata": {},
   "source": [
    "From Z3 model solution to file:"
   ]
  },
  {
   "cell_type": "code",
   "execution_count": 10,
   "metadata": {},
   "outputs": [],
   "source": [
    "solution = np.zeros((h, w, n), dtype=bool)\n",
    "model = solver.model()\n",
    "\n",
    "for i in range(h):\n",
    "    for j in range(w):\n",
    "        for k in range(n):\n",
    "            solution[i, j, k] = is_true(model[B[i][j][k]])"
   ]
  },
  {
   "cell_type": "code",
   "execution_count": 11,
   "metadata": {},
   "outputs": [],
   "source": [
    "xy = {}\n",
    "for p in range(n):\n",
    "    y_ids, x_ids = solution[:, :, p].nonzero()\n",
    "    #print(solution[:, :, p])\n",
    "    x = np.min(x_ids)\n",
    "    y = h-1-np.max(y_ids)\n",
    "    xy[p] = [x, y]"
   ]
  },
  {
   "cell_type": "code",
   "execution_count": 12,
   "metadata": {},
   "outputs": [
    {
     "data": {
      "text/plain": [
       "{0: [10, 13],\n",
       " 1: [7, 12],\n",
       " 2: [13, 0],\n",
       " 3: [13, 5],\n",
       " 4: [0, 0],\n",
       " 5: [10, 0],\n",
       " 6: [10, 8],\n",
       " 7: [7, 0],\n",
       " 8: [3, 0],\n",
       " 9: [13, 11],\n",
       " 10: [0, 7],\n",
       " 11: [7, 14]}"
      ]
     },
     "execution_count": 12,
     "metadata": {},
     "output_type": "execute_result"
    }
   ],
   "source": [
    "xy"
   ]
  },
  {
   "cell_type": "code",
   "execution_count": 13,
   "metadata": {},
   "outputs": [],
   "source": [
    "output_filename = '../../pwp_utilities/16x16.txt'\n",
    "with open(output_filename, 'w') as f_out:\n",
    "    f_out.write('{} {}\\n'.format(w, h))\n",
    "    f_out.write('{}\\n'.format(n))\n",
    "    for i in range(n):\n",
    "        f_out.write('{} {}\\t{} {}\\n'.format(DX[i], DY[i], xy[i][0], xy[i][1]))"
   ]
  },
  {
   "cell_type": "code",
   "execution_count": null,
   "metadata": {},
   "outputs": [],
   "source": []
  }
 ],
 "metadata": {
  "kernelspec": {
   "display_name": "Python 3",
   "language": "python",
   "name": "python3"
  },
  "language_info": {
   "codemirror_mode": {
    "name": "ipython",
    "version": 3
   },
   "file_extension": ".py",
   "mimetype": "text/x-python",
   "name": "python",
   "nbconvert_exporter": "python",
   "pygments_lexer": "ipython3",
   "version": "3.8.5"
  }
 },
 "nbformat": 4,
 "nbformat_minor": 4
}
