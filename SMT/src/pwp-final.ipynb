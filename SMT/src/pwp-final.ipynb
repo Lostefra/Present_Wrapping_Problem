{
 "cells": [
  {
   "cell_type": "code",
   "execution_count": 1,
   "metadata": {},
   "outputs": [],
   "source": [
    "from z3 import *\n",
    "from itertools import combinations"
   ]
  },
  {
   "cell_type": "markdown",
   "metadata": {},
   "source": [
    "Read instance file:"
   ]
  },
  {
   "cell_type": "code",
   "execution_count": 2,
   "metadata": {},
   "outputs": [],
   "source": [
    "input_filename = '../../Instances/15x15.txt'\n",
    "\n",
    "w, h, n, DX, DY = None, None, None, None, None\n",
    "\n",
    "with open(input_filename, 'r') as f_in:\n",
    "    lines = f_in.read().splitlines()\n",
    "\n",
    "    split = lines[0].split(' ')\n",
    "    w = int(split[0])\n",
    "    h = int(split[1])\n",
    "\n",
    "    n = int(lines[1])\n",
    "\n",
    "    DX = []\n",
    "    DY = []\n",
    "\n",
    "    for i in range(int(n)):\n",
    "        split = lines[i + 2].split(' ')\n",
    "        DX.append(int(split[0]))\n",
    "        DY.append(int(split[1]))"
   ]
  },
  {
   "cell_type": "markdown",
   "metadata": {},
   "source": [
    "Solver:"
   ]
  },
  {
   "cell_type": "code",
   "execution_count": 3,
   "metadata": {},
   "outputs": [],
   "source": [
    "solver = Solver()"
   ]
  },
  {
   "cell_type": "markdown",
   "metadata": {},
   "source": [
    "Model:"
   ]
  },
  {
   "cell_type": "code",
   "execution_count": 4,
   "metadata": {},
   "outputs": [
    {
     "data": {
      "text/plain": [
       "[(XY_0_0, XY_0_1),\n",
       " (XY_1_0, XY_1_1),\n",
       " (XY_2_0, XY_2_1),\n",
       " (XY_3_0, XY_3_1),\n",
       " (XY_4_0, XY_4_1),\n",
       " (XY_5_0, XY_5_1),\n",
       " (XY_6_0, XY_6_1),\n",
       " (XY_7_0, XY_7_1),\n",
       " (XY_8_0, XY_8_1),\n",
       " (XY_9_0, XY_9_1)]"
      ]
     },
     "execution_count": 4,
     "metadata": {},
     "output_type": "execute_result"
    }
   ],
   "source": [
    "XY = [(Int(f'XY_{i}_0'), Int(f'XY_{i}_1')) for i in range(n)]\n",
    "XY"
   ]
  },
  {
   "cell_type": "code",
   "execution_count": 5,
   "metadata": {},
   "outputs": [],
   "source": [
    "# Non-overlapping constraint\n",
    "for (i, j) in combinations(range(n), 2):\n",
    "    solver.add(Or(XY[i][0] + DX[i] <= XY[j][0], \n",
    "                  XY[j][0] + DX[j] <= XY[i][0],\n",
    "                  XY[i][1] + DY[i] <= XY[j][1],\n",
    "                  XY[j][1] + DY[j] <= XY[i][1]))"
   ]
  },
  {
   "cell_type": "code",
   "execution_count": 6,
   "metadata": {},
   "outputs": [],
   "source": [
    "# Boundaries consistency constraint\n",
    "for i in range(n):\n",
    "    solver.add(XY[i][0] >=0)\n",
    "    solver.add(XY[i][1] >= 0)\n",
    "    solver.add(XY[i][0] + DX[i] <= w)\n",
    "    solver.add(XY[i][1] + DY[i] <= h)"
   ]
  },
  {
   "cell_type": "code",
   "execution_count": 7,
   "metadata": {},
   "outputs": [
    {
     "name": "stdout",
     "output_type": "stream",
     "text": [
      "CPU times: user 43.5 ms, sys: 400 µs, total: 43.9 ms\n",
      "Wall time: 41.5 ms\n"
     ]
    },
    {
     "data": {
      "text/html": [
       "<b>sat</b>"
      ],
      "text/plain": [
       "sat"
      ]
     },
     "execution_count": 7,
     "metadata": {},
     "output_type": "execute_result"
    }
   ],
   "source": [
    "%%time\n",
    "solver.check()"
   ]
  },
  {
   "cell_type": "markdown",
   "metadata": {},
   "source": [
    "From Z3 model solution to file:"
   ]
  },
  {
   "cell_type": "code",
   "execution_count": 8,
   "metadata": {},
   "outputs": [
    {
     "data": {
      "text/plain": [
       "[(3, 0),\n",
       " (12, 0),\n",
       " (9, 7),\n",
       " (0, 0),\n",
       " (9, 0),\n",
       " (12, 4),\n",
       " (0, 6),\n",
       " (3, 3),\n",
       " (6, 0),\n",
       " (9, 12)]"
      ]
     },
     "execution_count": 8,
     "metadata": {},
     "output_type": "execute_result"
    }
   ],
   "source": [
    "model = solver.model()\n",
    "\n",
    "xy = [(model[XY[i][0]], model[XY[i][1]]) for i in range(n)]\n",
    "xy"
   ]
  },
  {
   "cell_type": "code",
   "execution_count": 9,
   "metadata": {},
   "outputs": [],
   "source": [
    "output_filename = '../../pwp_utilities/15x15_sol.txt'\n",
    "with open(output_filename, 'w') as f_out:\n",
    "    f_out.write('{} {}\\n'.format(w, h))\n",
    "    f_out.write('{}\\n'.format(n))\n",
    "    for i in range(n):\n",
    "        f_out.write('{} {}\\t{} {}\\n'.format(DX[i], DY[i], xy[i][0], xy[i][1]))"
   ]
  },
  {
   "cell_type": "code",
   "execution_count": null,
   "metadata": {},
   "outputs": [],
   "source": []
  }
 ],
 "metadata": {
  "kernelspec": {
   "display_name": "Optimization",
   "language": "python",
   "name": "optimai"
  },
  "language_info": {
   "codemirror_mode": {
    "name": "ipython",
    "version": 3
   },
   "file_extension": ".py",
   "mimetype": "text/x-python",
   "name": "python",
   "nbconvert_exporter": "python",
   "pygments_lexer": "ipython3",
   "version": "3.8.5"
  }
 },
 "nbformat": 4,
 "nbformat_minor": 4
}
