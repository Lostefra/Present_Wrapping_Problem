{
 "cells": [
  {
   "cell_type": "code",
   "execution_count": 1,
   "metadata": {},
   "outputs": [],
   "source": [
    "from z3 import *\n",
    "from itertools import combinations\n",
    "from typing import Sequence"
   ]
  },
  {
   "cell_type": "markdown",
   "metadata": {},
   "source": [
    "Read instance file:"
   ]
  },
  {
   "cell_type": "code",
   "execution_count": 2,
   "metadata": {},
   "outputs": [],
   "source": [
    "input_filename = '../../Instances/15x15.txt'\n",
    "\n",
    "w, h, n, DX, DY = None, None, None, None, None\n",
    "\n",
    "with open(input_filename, 'r') as f_in:\n",
    "    lines = f_in.read().splitlines()\n",
    "\n",
    "    split = lines[0].split(' ')\n",
    "    w = int(split[0])\n",
    "    h = int(split[1])\n",
    "\n",
    "    n = int(lines[1])\n",
    "\n",
    "    DX = []\n",
    "    DY = []\n",
    "\n",
    "    for i in range(int(n)):\n",
    "        split = lines[i + 2].split(' ')\n",
    "        DX.append(int(split[0]))\n",
    "        DY.append(int(split[1]))"
   ]
  },
  {
   "cell_type": "markdown",
   "metadata": {},
   "source": [
    "Solver:"
   ]
  },
  {
   "cell_type": "code",
   "execution_count": 3,
   "metadata": {},
   "outputs": [],
   "source": [
    "solver = Solver()"
   ]
  },
  {
   "cell_type": "markdown",
   "metadata": {},
   "source": [
    "Model:"
   ]
  },
  {
   "cell_type": "code",
   "execution_count": 4,
   "metadata": {},
   "outputs": [],
   "source": [
    "XY = [(Int(f'XY_{i}_0'), Int(f'XY_{i}_1')) for i in range(n)]\n",
    "R = [Bool(f'R_{i}') for i in range(n)]  # auxiliary array to keep track of rotation\n",
    "\n",
    "TRUE_DX = [If(And(DX[i] != DY[i], R[i]), DY[i], DX[i]) for i in range(n)]  # actual X dimension\n",
    "TRUE_DY = [If(And(DX[i] != DY[i], R[i]), DX[i], DY[i]) for i in range(n)]  # actual Y dimension"
   ]
  },
  {
   "cell_type": "markdown",
   "metadata": {},
   "source": [
    "Constraints:"
   ]
  },
  {
   "cell_type": "code",
   "execution_count": 5,
   "metadata": {},
   "outputs": [],
   "source": [
    "# Non-overlapping constraint\n",
    "for (i, j) in combinations(range(n), 2):\n",
    "    solver.add(Or(XY[i][0] + TRUE_DX[i] <= XY[j][0], \n",
    "                  XY[j][0] + TRUE_DX[j] <= XY[i][0],\n",
    "                  XY[i][1] + TRUE_DY[i] <= XY[j][1],\n",
    "                  XY[j][1] + TRUE_DY[j] <= XY[i][1]))"
   ]
  },
  {
   "cell_type": "code",
   "execution_count": 6,
   "metadata": {},
   "outputs": [],
   "source": [
    "# Boundaries consistency constraint\n",
    "for i in range(n):\n",
    "    solver.add(XY[i][0] >=0)\n",
    "    solver.add(XY[i][1] >= 0)\n",
    "    solver.add(XY[i][0] + TRUE_DX[i] <= w)\n",
    "    solver.add(XY[i][1] + TRUE_DY[i] <= h)"
   ]
  },
  {
   "cell_type": "code",
   "execution_count": 7,
   "metadata": {},
   "outputs": [],
   "source": [
    "# Cumulative constraint\n",
    "def cumulative(solver, S: Sequence, D: Sequence, R: Sequence, C: int):\n",
    "    # Iterate over the durations\n",
    "    for u in D:\n",
    "        solver.add(\n",
    "            Sum(\n",
    "                [If(And(S[i] <= u, u < S[i] + D[i]), R[i], 0) for i in range(n)]\n",
    "            ) <= C)\n",
    "\n",
    "# Implied constraints\n",
    "cumulative(solver,\n",
    "           S=list(map(lambda t: t[0], XY)),  # take x coordinates\n",
    "           D=TRUE_DX,\n",
    "           R=TRUE_DY,\n",
    "           C=h)\n",
    "cumulative(solver,\n",
    "           S=list(map(lambda t: t[1], XY)),  # take y coordinates\n",
    "           D=TRUE_DY,\n",
    "           R=TRUE_DX,\n",
    "           C=w)"
   ]
  },
  {
   "cell_type": "code",
   "execution_count": 8,
   "metadata": {},
   "outputs": [],
   "source": [
    "solver.add(R[4])"
   ]
  },
  {
   "cell_type": "code",
   "execution_count": 9,
   "metadata": {},
   "outputs": [
    {
     "name": "stdout",
     "output_type": "stream",
     "text": [
      "CPU times: user 2.21 s, sys: 0 ns, total: 2.21 s\n",
      "Wall time: 2.22 s\n"
     ]
    },
    {
     "data": {
      "text/html": [
       "<b>sat</b>"
      ],
      "text/plain": [
       "sat"
      ]
     },
     "execution_count": 9,
     "metadata": {},
     "output_type": "execute_result"
    }
   ],
   "source": [
    "%%time\n",
    "solver.check()"
   ]
  },
  {
   "cell_type": "markdown",
   "metadata": {},
   "source": [
    "From Z3 model solution to file:"
   ]
  },
  {
   "cell_type": "code",
   "execution_count": 10,
   "metadata": {},
   "outputs": [],
   "source": [
    "model = solver.model()\n",
    "\n",
    "xy = [(model[XY[i][0]], model[XY[i][1]]) for i in range(n)]\n",
    "r = [model[R[i]] for i in range(n)]"
   ]
  },
  {
   "cell_type": "code",
   "execution_count": 11,
   "metadata": {},
   "outputs": [],
   "source": [
    "output_filename = '../../pwp_utilities/15x15-rot.txt'\n",
    "with open(output_filename, 'w') as f_out:\n",
    "    f_out.write('{} {}\\n'.format(w, h))\n",
    "    f_out.write('{}\\n'.format(n))\n",
    "    for i in range(n):\n",
    "        f_out.write('{} {}\\t{} {}\\n'.format(DY[i] if r[i] else DX[i], DX[i] if r[i] else DY[i], xy[i][0], xy[i][1]))"
   ]
  },
  {
   "cell_type": "code",
   "execution_count": null,
   "metadata": {},
   "outputs": [],
   "source": []
  }
 ],
 "metadata": {
  "kernelspec": {
   "display_name": "Optimization",
   "language": "python",
   "name": "optimai"
  },
  "language_info": {
   "codemirror_mode": {
    "name": "ipython",
    "version": 3
   },
   "file_extension": ".py",
   "mimetype": "text/x-python",
   "name": "python",
   "nbconvert_exporter": "python",
   "pygments_lexer": "ipython3",
   "version": "3.8.5"
  }
 },
 "nbformat": 4,
 "nbformat_minor": 4
}
