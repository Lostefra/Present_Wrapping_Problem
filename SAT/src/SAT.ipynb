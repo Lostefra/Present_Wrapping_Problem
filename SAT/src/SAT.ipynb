{
 "cells": [
  {
   "cell_type": "code",
   "execution_count": 40,
   "metadata": {},
   "outputs": [],
   "source": [
    "from z3 import *\n",
    "import numpy as np\n",
    "from tqdm.notebook import tqdm"
   ]
  },
  {
   "cell_type": "markdown",
   "metadata": {},
   "source": [
    "Read instance file:"
   ]
  },
  {
   "cell_type": "code",
   "execution_count": 41,
   "metadata": {},
   "outputs": [],
   "source": [
    "input_filename = '../../Instances/3x3.txt'\n",
    "\n",
    "w, h, n, DX, DY = None, None, None, None, None\n",
    "\n",
    "with open(input_filename, 'r') as f_in:\n",
    "    lines = f_in.read().splitlines()\n",
    "\n",
    "    split = lines[0].split(' ')\n",
    "    w = int(split[0])\n",
    "    h = int(split[1])\n",
    "\n",
    "    n = int(lines[1])\n",
    "\n",
    "    DX = []\n",
    "    DY = []\n",
    "\n",
    "    for i in range(int(n)):\n",
    "        split = lines[i+2].split(' ')\n",
    "        DX.append(int(split[0]))\n",
    "        DY.append(int(split[1]))"
   ]
  },
  {
   "cell_type": "markdown",
   "metadata": {},
   "source": [
    "Solver:"
   ]
  },
  {
   "cell_type": "code",
   "execution_count": 42,
   "metadata": {},
   "outputs": [],
   "source": [
    "solver = Solver()"
   ]
  },
  {
   "cell_type": "markdown",
   "metadata": {},
   "source": [
    "Model:"
   ]
  },
  {
   "cell_type": "code",
   "execution_count": 43,
   "metadata": {},
   "outputs": [],
   "source": [
    "B = []\n",
    "\n",
    "for i in range(h):\n",
    "    B.append([])\n",
    "    for j in range(w):\n",
    "        B[i].append([])\n",
    "        for k in range(n):\n",
    "            B[i][j].append(Bool('B_{}_{}_{}'.format(i, j, k)))"
   ]
  },
  {
   "cell_type": "code",
   "execution_count": 44,
   "metadata": {},
   "outputs": [],
   "source": [
    "# constraint at most one color\n",
    "for i in range(h):\n",
    "    for j in range(w):\n",
    "        for k1 in range(n):\n",
    "            for k2 in range(k1+1, n):\n",
    "                solver.add(Not(And([B[i][j][k1], B[i][j][k2]])))"
   ]
  },
  {
   "cell_type": "code",
   "execution_count": 45,
   "metadata": {},
   "outputs": [
    {
<<<<<<< HEAD
     "data": {
      "application/vnd.jupyter.widget-view+json": {
       "model_id": "",
       "version_major": 2,
       "version_minor": 0
      },
      "text/plain": [
       "  0%|          | 0/2 [00:00<?, ?it/s]"
      ]
     },
     "metadata": {},
     "output_type": "display_data"
=======
     "name": "stdout",
     "output_type": "stream",
     "text": [
      "36\n",
      "24\n",
      "24\n",
      "16\n"
     ]
>>>>>>> 62b6d96276913be002ff0c04c5eb98893a213b46
    }
   ],
   "source": [
    "# iterate over pieces of paper\n",
    "for p in tqdm(range(n), leave=False):\n",
    "    dx = DX[p]\n",
    "    dy = DY[p]\n",
    "    \n",
    "    present_condition = []\n",
    "    \n",
    "    # (i, j) positions for the top left corner\n",
    "    for i in range(h-dy+1):\n",
    "        for j in range(w-dx+1):\n",
    "            \n",
    "            patch_condition = []\n",
    "            for f1 in range(dy):\n",
    "                for f2 in range(dx):\n",
    "                    # cells of the piece of paper\n",
    "                    patch_condition.append(B[i+f1][j+f2][p])\n",
    "            \n",
    "            present_condition.append(And(patch_condition))\n",
    "    \n",
    "    solver.add(Or(present_condition))\n",
    "    \n",
    "    #for a in tqdm(range(len(present_condition)), leave=False):\n",
    "    #    for b in range(a+1, len(present_condition)):\n",
    "            # exactly one constraint\n",
    "    #        solver.add(And(Not(And(present_condition[a], present_condition[b])), Or(present_condition)))\n",
    "            #              |------------------ at most one ------------------|   |--- at least one ---|"
   ]
  },
  {
   "cell_type": "code",
   "execution_count": 46,
   "metadata": {},
   "outputs": [
    {
     "data": {
      "text/html": [
       "<b>sat</b>"
      ],
      "text/plain": [
       "sat"
      ]
     },
     "execution_count": 46,
     "metadata": {},
     "output_type": "execute_result"
    }
   ],
   "source": [
    "solver.check()"
   ]
  },
  {
   "cell_type": "markdown",
   "metadata": {},
   "source": [
    "From Z3 model solution to file:"
   ]
  },
  {
   "cell_type": "code",
   "execution_count": 47,
   "metadata": {},
   "outputs": [],
   "source": [
    "solution = np.zeros((h, w, n), dtype=bool)\n",
    "model = solver.model()\n",
    "\n",
    "for i in range(h):\n",
    "    for j in range(w):\n",
    "        for k in range(n):\n",
    "            solution[i, j, k] = is_true(model[B[i][j][k]])"
   ]
  },
  {
   "cell_type": "code",
   "execution_count": 52,
   "metadata": {},
   "outputs": [],
   "source": [
    "xy = {}\n",
    "for p in range(n):\n",
    "    # DEBUG\n",
    "    #print(solution[:, :, p])\n",
    "    # DEBUG\n",
    "    y_ids, x_ids = solution[:, :, p].nonzero()\n",
    "    \n",
    "    x = np.min(x_ids)\n",
    "    y = h-1-np.max(y_ids)\n",
    "    \n",
    "    xy[p] = [x, y]\n",
    "    \n",
    "    #print('Color {}: [{}, {}]'.format(p, x, y))"
   ]
  },
  {
   "cell_type": "code",
   "execution_count": 49,
   "metadata": {},
   "outputs": [
    {
     "data": {
      "text/plain": [
       "{0: [0, 0], 1: [1, 0]}"
      ]
     },
     "execution_count": 49,
     "metadata": {},
     "output_type": "execute_result"
    }
   ],
   "source": [
    "xy"
   ]
  },
  {
   "cell_type": "code",
   "execution_count": 50,
   "metadata": {},
   "outputs": [],
   "source": [
    "output_filename = '../../pwp_utilities/3x3_sol.txt'\n",
    "with open(output_filename, 'w') as f_out:\n",
    "    f_out.write('{} {}\\n'.format(w, h))\n",
    "    f_out.write('{}\\n'.format(n))\n",
    "    for i in range(n):\n",
    "        f_out.write('{} {}\\t{} {}\\n'.format(DX[i], DY[i], xy[i][0], xy[i][1]))"
   ]
  },
  {
   "cell_type": "code",
   "execution_count": null,
   "metadata": {},
   "outputs": [],
   "source": []
  }
 ],
 "metadata": {
  "kernelspec": {
   "display_name": "Optimization",
   "language": "python",
   "name": "optimai"
  },
  "language_info": {
   "codemirror_mode": {
    "name": "ipython",
    "version": 3
   },
   "file_extension": ".py",
   "mimetype": "text/x-python",
   "name": "python",
   "nbconvert_exporter": "python",
   "pygments_lexer": "ipython3",
   "version": "3.8.5"
  }
 },
 "nbformat": 4,
 "nbformat_minor": 4
}
